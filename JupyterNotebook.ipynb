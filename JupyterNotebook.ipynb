{
 "cells": [
  {
   "cell_type": "markdown",
   "id": "5db81fe9",
   "metadata": {},
   "source": [
    "## Research Track II Assignment\n",
    "## Pablo Moreno Moreno - S5646698\n",
    "\n",
    "This is the Jupyter Notebook created to interact with the simulation of the second assignment of Research Track I."
   ]
  },
  {
   "cell_type": "markdown",
   "id": "18cb5b4e",
   "metadata": {},
   "source": [
    "### Import libraries"
   ]
  },
  {
   "cell_type": "code",
   "execution_count": null,
   "id": "739d7afe",
   "metadata": {},
   "outputs": [],
   "source": [
    "import rospy\n",
    "from geometry_msgs.msg import PoseStamped\n",
    "from nav_msgs.msg import Odometry\n",
    "from sensor_msgs.msg import LaserScan\n",
    "from my_assignment_2.msg import PosVel\n",
    "from assignment_2_2022.msg import PlanningActionResult\n",
    "\n",
    "# Bring in the SimpleActionClient\n",
    "import actionlib \n",
    "# Bring in the PlanningAction type, composed by the types PlanningGoal, PlanningResult and PlanningFeedback\n",
    "from assignment_2_2022.msg import PlanningAction, PlanningGoal\n",
    "\n",
    "import ipywidgets as widgets\n",
    "import matplotlib as mpl\n",
    "import matplotlib.pyplot as plt\n",
    "import numpy as np\n",
    "from matplotlib.animation import FuncAnimation\n",
    "import matplotlib.lines as mlines\n",
    "from matplotlib.ticker import MaxNLocator"
   ]
  },
  {
   "cell_type": "markdown",
   "id": "5d7107d4",
   "metadata": {},
   "source": [
    "### Widget definition"
   ]
  },
  {
   "cell_type": "code",
   "execution_count": null,
   "id": "4710dd7f",
   "metadata": {},
   "outputs": [],
   "source": [
    "%matplotlib widget\n",
    "\n",
    "# Send button\n",
    "send_button = widgets.Button(\n",
    "    description='Send',\n",
    "    disabled=False,\n",
    "    button_style='success',\n",
    "    layout = widgets.Layout(width='350px')\n",
    ")\n",
    "\n",
    "# Cancel button\n",
    "cancel_button = widgets.Button(\n",
    "    description='Cancel',\n",
    "    disabled=False,\n",
    "    button_style='danger',\n",
    "    layout = widgets.Layout(width='350px')\n",
    ")\n",
    "\n",
    "# Widget for the status of the robot\n",
    "status_text = widgets.Text(value='Waiting for the user to enter a goal',\n",
    "                           description='Status:',\n",
    "                           disabled=True,\n",
    "                           layout = widgets.Layout(width='350px'))\n",
    "\n",
    "# Widget for the distance to the closest obstacle\n",
    "box_distance = widgets.FloatText(value=-1,\n",
    "                        description=\"Distance to the closest obstacle:\", \n",
    "                        style= {'description_width': 'initial'}, \n",
    "                        disabled = True,\n",
    "                        layout = widgets.Layout(width='350px'))\n",
    "\n",
    "# Widget for the number of goals reached\n",
    "box_reached = widgets.IntText(value=0, disabled=True)\n",
    "def update_box_reached(change):\n",
    "    plt.figure(2)\n",
    "    plt.bar([\"Reached\", \"Cancelled\"], [n_goals_reached, n_goals_cancelled], align='center', width=0.8, color=['green', 'red'])\n",
    "    plt.show()\n",
    "box_reached.observe(update_box_reached, 'value')\n",
    "\n",
    "# Widget for the number of goals cancelled\n",
    "box_cancelled = widgets.IntText(value=0, disabled=True)\n",
    "def update_box_cancelled(change):\n",
    "    plt.figure(2)\n",
    "    plt.bar([\"Reached\", \"Cancelled\"], [n_goals_reached, n_goals_cancelled], align='center', width=0.8, color=['green', 'red'])\n",
    "box_cancelled.observe(update_box_cancelled, 'value')"
   ]
  },
  {
   "cell_type": "markdown",
   "id": "ef7c4cd7",
   "metadata": {},
   "source": [
    "### Class to visualize the robot's position using *FuncAnimation*"
   ]
  },
  {
   "cell_type": "code",
   "execution_count": null,
   "id": "3d2e3dc8",
   "metadata": {},
   "outputs": [],
   "source": [
    "class Visualiser:\n",
    "    def __init__(self):\n",
    "        self.fig, self.ax = plt.subplots()\n",
    "        self.ln, = plt.plot([], [], 'ro', markersize=3)\n",
    "        self.x_data, self.y_data = [] , []\n",
    "        \n",
    "        self.ax.set_xlabel('x') # Add an x-label to the axes\n",
    "        self.ax.set_ylabel('y') # Add a y-label to the axes\n",
    "        self.ax.set_title(\"Robot's position and goals' positions in the environment\") # Add a title to the axes\n",
    "        plt.grid() # Show grid\n",
    "        \n",
    "        # Legend\n",
    "        robot_position = mlines.Line2D([], [], linewidth = 3, color='red', label='Robot position')\n",
    "        current_goal = mlines.Line2D([], [], linewidth = 0, color='blue', marker='*', label='Current goal') \n",
    "        reached_goals = mlines.Line2D([], [], linewidth = 0, color='green', marker='H', label='Reached goals') \n",
    "        cancelled_goals = mlines.Line2D([], [], linewidth = 0, color='orange', marker='H', label='Cancelled goals') \n",
    "        plt.legend(handles=[robot_position, current_goal, reached_goals, cancelled_goals])\n",
    "        \n",
    "    def plot_init(self):\n",
    "        self.ax.set_xlim(-10, 10)\n",
    "        self.ax.set_ylim(-10, 10)\n",
    "        return self.ln\n",
    "    \n",
    "    def odom_callback(self, msg):\n",
    "        \n",
    "        my_pos_vel = PosVel() # This is the msg we'll publish\n",
    "    \n",
    "        # Fill the four fields relying on the data received via the topic /odom\n",
    "        my_pos_vel.x = msg.pose.pose.position.x\n",
    "        my_pos_vel.y = msg.pose.pose.position.y\n",
    "        my_pos_vel.vel_x = msg.twist.twist.linear.x\n",
    "        my_pos_vel.vel_z = msg.twist.twist.angular.z\n",
    "\n",
    "        pub.publish(my_pos_vel) # Publish\n",
    "        \n",
    "        # Update the arrays containing the position of the robot\n",
    "        self.y_data.append(msg.pose.pose.position.y)\n",
    "        self.x_data.append(msg.pose.pose.position.x)\n",
    "        \n",
    "    def update_plot(self, frame):\n",
    "        self.ln.set_data(self.x_data, self.y_data)\n",
    "        return self.ln  "
   ]
  },
  {
   "cell_type": "markdown",
   "id": "f49cef25",
   "metadata": {},
   "source": [
    "### Callback function for the laser scanner"
   ]
  },
  {
   "cell_type": "code",
   "execution_count": null,
   "id": "d7c07b1b",
   "metadata": {},
   "outputs": [],
   "source": [
    "def callback_scan(msg):\n",
    "    \n",
    "    # Initialize the minimum distance\n",
    "    min_val = msg.range_max\n",
    "    \n",
    "    # Iterate through the entire array to find the minimum value\n",
    "    for i in range(len(msg.ranges)):\n",
    "        if (msg.ranges[i] < min_val) and (msg.ranges[i] >= msg.range_min) and (msg.ranges[i] <= msg.range_max):\n",
    "            min_val = msg.ranges[i]\n",
    "    \n",
    "    # Update the widget corresponding to the distance to the closest obstacle\n",
    "    global box_distance\n",
    "    box_distance.value = min_val"
   ]
  },
  {
   "cell_type": "markdown",
   "id": "61224484",
   "metadata": {},
   "source": [
    "### If the goal has been successfully reached..."
   ]
  },
  {
   "cell_type": "code",
   "execution_count": null,
   "id": "bf7176af",
   "metadata": {},
   "outputs": [],
   "source": [
    "def callback_result(result):\n",
    "    if result.status.status == 3:\n",
    "\n",
    "        # Update the status\n",
    "        status_text.value = \"Goal reached\"\n",
    "        \n",
    "        # Increment the parameter related to the number of goals reached\n",
    "        global n_goals_reached\n",
    "        n_goals_reached += 1\n",
    "        rospy.set_param('goals_reached', n_goals_reached)\n",
    "        \n",
    "        # Update the bar graph\n",
    "        global box_reached\n",
    "        box_reached.value += 1\n",
    "        \n",
    "        # Add a marker to the plot of the environment\n",
    "        plt.figure(vis.fig.number)\n",
    "        plt.plot(x.value, y.value, color='green', marker='H')"
   ]
  },
  {
   "cell_type": "markdown",
   "id": "32f8934b",
   "metadata": {},
   "source": [
    "### If the user clicks the *send*  button..."
   ]
  },
  {
   "cell_type": "code",
   "execution_count": null,
   "id": "8dc5bce2",
   "metadata": {},
   "outputs": [],
   "source": [
    "def on_send_button_clicked(b):\n",
    "        \n",
    "    # Create a goal to send to the action server\n",
    "    my_goal_pose = PoseStamped()\n",
    "    my_goal_pose.pose.position.x = x.value\n",
    "    my_goal_pose.pose.position.y = y.value\n",
    "    goal = PlanningGoal(target_pose = my_goal_pose)\n",
    "\n",
    "    # Send the goal to the action server\n",
    "    client.send_goal(goal)\n",
    "    \n",
    "    # Update the status of the robot\n",
    "    status_text.value = \"Heading to the goal (\" + str(x.value) + \", \" + str(y.value) + \")\"\n",
    "    \n",
    "    # Add a marker to the plot of the environment\n",
    "    plt.figure(vis.fig.number)\n",
    "    plt.plot(x.value, y.value, color='blue', marker='*')\n",
    "\n",
    "# Associate this callback function to the send button\n",
    "send_button.on_click(on_send_button_clicked)"
   ]
  },
  {
   "cell_type": "markdown",
   "id": "117dd53e",
   "metadata": {},
   "source": [
    "### If the user clicks the *cancel*  button..."
   ]
  },
  {
   "cell_type": "code",
   "execution_count": null,
   "id": "e02072a4",
   "metadata": {},
   "outputs": [],
   "source": [
    "def on_cancel_button_clicked(b):\n",
    "    \n",
    "    # Cancel the current goal\n",
    "    client.cancel_goal()\n",
    "    \n",
    "    # Update the status\n",
    "    status_text.value = \"Goal cancelled\"\n",
    "    \n",
    "    # Increment the parameter related to the number of goals cancelled\n",
    "    global n_goals_cancelled\n",
    "    n_goals_cancelled += 1\n",
    "    rospy.set_param('goals_cancelled', n_goals_cancelled)\n",
    "    \n",
    "    # Update the bar graph\n",
    "    global box_cancelled\n",
    "    box_cancelled.value += 1\n",
    "    \n",
    "    # Add a marker to the plot of the environment\n",
    "    plt.figure(vis.fig.number)\n",
    "    plt.plot(x.value, y.value, color='orange', marker='H')\n",
    "\n",
    "# Associate this callback function to the cancel button\n",
    "cancel_button.on_click(on_cancel_button_clicked)"
   ]
  },
  {
   "cell_type": "markdown",
   "id": "1506c90b",
   "metadata": {},
   "source": [
    "### Get a new target from user input & Data Visualization"
   ]
  },
  {
   "cell_type": "code",
   "execution_count": null,
   "id": "56583f17",
   "metadata": {
    "scrolled": false
   },
   "outputs": [],
   "source": [
    "print(\"\\nTo send a new goal, specify the x and y coordinates and click \\'Send\\':\\n\")\n",
    "x = widgets.FloatText(description='x = ', layout = widgets.Layout(width='350px'))\n",
    "display(x)\n",
    "y = widgets.FloatText(description='y = ', layout = widgets.Layout(width='350px'))\n",
    "display(y)\n",
    "\n",
    "# Display send button\n",
    "output = widgets.Output()\n",
    "display(send_button, output)\n",
    "\n",
    "# Display cancel button\n",
    "print(\"To cancel the current goal, click \\'Cancel\\':\\n\")\n",
    "display(cancel_button, output)\n",
    "\n",
    "# Display the status and distance boxes\n",
    "display(status_text)\n",
    "display(box_distance)\n",
    "\n",
    "# Initialize a rospy node so that the SimpleActionClient can publish and subscribe over ROS\n",
    "rospy.init_node('planning_client')\n",
    "\n",
    "# Create an instance of the class Visualiser\n",
    "vis = Visualiser()\n",
    "\n",
    "# Define the publisher fot the topic /pos_vel\n",
    "pub = rospy.Publisher(\"/pos_vel\", PosVel, queue_size=10)\n",
    "\n",
    "# Subscribe to the topics /odom, /reaching_goal/result, and /scan\n",
    "sub1 = rospy.Subscriber(\"/odom\", Odometry, vis.odom_callback)\n",
    "sub2 = rospy.Subscriber(\"/reaching_goal/result\", PlanningActionResult, callback_result)\n",
    "sub3 = rospy.Subscriber(\"/scan\", LaserScan, callback_scan)\n",
    "\n",
    "# FuncAnimation\n",
    "ani = FuncAnimation(vis.fig, vis.update_plot, init_func=vis.plot_init)\n",
    "plt.show(block=False)\n",
    "\n",
    "# Counters for the number of goals reached and cancelled, in total\n",
    "n_goals_reached = 0\n",
    "n_goals_cancelled = 0\n",
    "\n",
    "# Initialize the parameters, in the ROS parameter service, related to these counters\n",
    "rospy.set_param('goals_reached', n_goals_reached)\n",
    "rospy.set_param('goals_cancelled', n_goals_cancelled)\n",
    "\n",
    "# Create the SimpleActionClient. The service is called '/reaching_goal' and the type of action is 'PlanningAction'\n",
    "client = actionlib.SimpleActionClient('reaching_goal', PlanningAction)\n",
    "\n",
    "# Wait until the action server has started up and started listening for goals\n",
    "client.wait_for_server()\n",
    "\n",
    "# Graph for the number of goals reached and cancelled\n",
    "ax = plt.figure(2).gca()\n",
    "ax.yaxis.set_major_locator(MaxNLocator(integer=True))\n",
    "plt.bar([\"Reached\", \"Cancelled\"], [n_goals_reached, n_goals_cancelled], align='center', width=0.8, color=['green', 'red'])\n",
    "plt.title(\"Number of goals reached and cancelled\")\n",
    "plt.grid(axis='y')\n",
    "plt.show()"
   ]
  }
 ],
 "metadata": {
  "hide_input": false,
  "kernelspec": {
   "display_name": "Python 3 (ipykernel)",
   "language": "python",
   "name": "python3"
  },
  "language_info": {
   "codemirror_mode": {
    "name": "ipython",
    "version": 3
   },
   "file_extension": ".py",
   "mimetype": "text/x-python",
   "name": "python",
   "nbconvert_exporter": "python",
   "pygments_lexer": "ipython3",
   "version": "3.8.5"
  },
  "toc": {
   "base_numbering": 1,
   "nav_menu": {},
   "number_sections": false,
   "sideBar": true,
   "skip_h1_title": false,
   "title_cell": "Table of Contents",
   "title_sidebar": "Contents",
   "toc_cell": false,
   "toc_position": {},
   "toc_section_display": true,
   "toc_window_display": false
  },
  "varInspector": {
   "cols": {
    "lenName": 16,
    "lenType": 16,
    "lenVar": 40
   },
   "kernels_config": {
    "python": {
     "delete_cmd_postfix": "",
     "delete_cmd_prefix": "del ",
     "library": "var_list.py",
     "varRefreshCmd": "print(var_dic_list())"
    },
    "r": {
     "delete_cmd_postfix": ") ",
     "delete_cmd_prefix": "rm(",
     "library": "var_list.r",
     "varRefreshCmd": "cat(var_dic_list()) "
    }
   },
   "types_to_exclude": [
    "module",
    "function",
    "builtin_function_or_method",
    "instance",
    "_Feature"
   ],
   "window_display": false
  }
 },
 "nbformat": 4,
 "nbformat_minor": 5
}
